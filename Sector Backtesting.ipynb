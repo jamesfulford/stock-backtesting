{
 "cells": [
  {
   "cell_type": "markdown",
   "metadata": {},
   "source": [
    "# Gather Data\n",
    "Uses finnhub.io API to gather historical stock data over period of time for items in provided sectors."
   ]
  },
  {
   "cell_type": "code",
   "execution_count": null,
   "metadata": {
    "scrolled": true
   },
   "outputs": [],
   "source": [
    "from datetime import datetime\n",
    "\n",
    "# Select Timeframe\n",
    "today = datetime.now()\n",
    "\n",
    "start = datetime(2019, 1, 1, 0, 0, 0)\n",
    "end = today\n",
    "# end = datetime(2019, 5, 31, 0, 0, 0)\n",
    "\n",
    "from src.get_sector_history import get_sector_histories\n",
    "from src.sectors import Sectors\n",
    "\n",
    "sector_stock_histories = get_sector_histories(start, end, sectors=[\n",
    "    \"fang\"\n",
    "])\n",
    "\n",
    "from src.sectors import get_sector_stocks\n",
    "\n",
    "for sector, history in sector_stock_histories.items():\n",
    "    print(\"{}: {}/{}\".format(sector, len(history), len(get_sector_stocks(sector))))"
   ]
  },
  {
   "cell_type": "markdown",
   "metadata": {},
   "source": [
    "## Strategy"
   ]
  },
  {
   "cell_type": "code",
   "execution_count": null,
   "metadata": {},
   "outputs": [],
   "source": [
    "from datetime import timedelta\n",
    "\n",
    "# yesterday's top gainer\n",
    "from src.strategy.util.daily import daily\n",
    "from src.trade import Trade\n",
    "\n",
    "def use_top_gainer_fixed_purchasing(top_n, target_value, days_to_sell):\n",
    "    \"\"\"\n",
    "    Strategy to buy previous day's top N gainers.\n",
    "    \"\"\"\n",
    "\n",
    "    state = {\n",
    "        \"prev_day\": {},\n",
    "#         \"sell\": [],\n",
    "    }\n",
    "\n",
    "    @daily\n",
    "    def top_gainer_fixed_purchasing(timestamp, records_by_symbol):\n",
    "\n",
    "        # Order previous day's stocks by day's gain\n",
    "        yesterdays_by_gainage = sorted(state[\"prev_day\"].values(), key=lambda d: -d.closing/d.opening)\n",
    "        # Remove losers\n",
    "        # yesterdays_by_gainage = list(filter(lambda d: d.closing > d.opening, yesterdays_by_gainage))\n",
    "        # Get symbols of previous day's stocks ordered by gainage\n",
    "        symbols_yesterdays_by_gainage = list(map(lambda d: d.symbol, yesterdays_by_gainage))\n",
    "\n",
    "        # Only consider today's stocks that also traded yesterday\n",
    "        today_symbol_records = list(records_by_symbol.items())\n",
    "        today_symbol_records = list(filter(lambda t: t[0] in symbols_yesterdays_by_gainage, today_symbol_records))\n",
    "\n",
    "        # Order today's stocks by yesterday's order\n",
    "        todays_days_by_yesterdays_gainage_tuples = sorted(today_symbol_records, key=lambda t: symbols_yesterdays_by_gainage.index(t[0]))\n",
    "        todays_days_by_yesterdays_gainage = list(map(lambda t: t[1], todays_days_by_yesterdays_gainage_tuples))\n",
    "\n",
    "        stocks_to_trade = todays_days_by_yesterdays_gainage[:top_n]\n",
    "        \n",
    "        trades = list(map(lambda stock_day: Trade(stock_day, target_value // stock_day.closing), stocks_to_trade))\n",
    "        for trade in trades:\n",
    "            yield trade\n",
    "\n",
    "        state[\"prev_day\"] = records_by_symbol\n",
    "        \n",
    "#         # SELL\n",
    "#         today = datetime.strptime(timestamp, \"%Y-%m-%d\")\n",
    "#         later = (today + timedelta(days=days_to_sell))\n",
    "\n",
    "#         state[\"sell\"].extend([(later, t) for t in trades])\n",
    "        \n",
    "#         state_trades = []\n",
    "#         for d, t in state[\"sell\"]:\n",
    "#             if d > today:\n",
    "#                 state_trades.append((d, t))  # defer\n",
    "#                 continue\n",
    "\n",
    "#             if trade.symbol in records_by_symbol:\n",
    "#                 day = records_by_symbol[trade.symbol]\n",
    "#                 yield Trade(day, -trade.quantity)\n",
    "#             else:\n",
    "#                 print(\"UHOH, {} {}\".format(timestamp, trade))\n",
    "        \n",
    "#         state[\"sell\"] = state_trades\n",
    "            \n",
    "    top_gainer_fixed_purchasing.__name__ += \"(top_n={top_n}, target_value={target_value}, days_to_sell={days_to_sell})\".format(top_n=top_n, target_value=target_value, days_to_sell=days_to_sell)\n",
    "    return top_gainer_fixed_purchasing\n",
    "        "
   ]
  },
  {
   "cell_type": "code",
   "execution_count": null,
   "metadata": {},
   "outputs": [],
   "source": [
    "from src.strategy.top_volume import use_top_volume_fixed_purchasing\n",
    "from src.strategy.buy_preset import use_buy_preset_value_strategy\n",
    "from src.run_strategies import run_strategies\n",
    "\n",
    "strategies = [\n",
    "    use_top_gainer_fixed_purchasing(2, 2000, 5),\n",
    "#     use_buy_preset_value_strategy(1000),\n",
    "]\n",
    "\n",
    "results = run_strategies(strategies, sector_stock_histories, start, end)"
   ]
  },
  {
   "cell_type": "code",
   "execution_count": null,
   "metadata": {},
   "outputs": [],
   "source": [
    "# Evaluate\n",
    "print(\"# ROI % EVALUATION ({start} to {end})\".format(start=start.strftime(\"%Y-%m-%d\"), end=end.strftime(\"%Y-%m-%d\")))\n",
    "from src.reporting.roi import print_roi\n",
    "print_roi(results)\n"
   ]
  },
  {
   "cell_type": "code",
   "execution_count": null,
   "metadata": {},
   "outputs": [],
   "source": [
    "if today == end:\n",
    "    print(\"# TODAY'S TRADES\")\n",
    "    from src.reporting.trades import print_day_trades\n",
    "    print_day_trades(results, end)\n"
   ]
  },
  {
   "cell_type": "code",
   "execution_count": null,
   "metadata": {},
   "outputs": [],
   "source": [
    "# Print out trades\n",
    "for strategy_name, sector_result_map in results.items():\n",
    "    print(\"{strategy_name}:\".format(strategy_name=strategy_name))\n",
    "\n",
    "    sector_pairings = list(sector_result_map.items())\n",
    "    sector_pairings.sort(key=lambda t: t[1][\"evaluation\"][\"period_roi\"])\n",
    "\n",
    "    for sector, sector_results in sector_pairings:\n",
    "        print(\"\\t{sector}:\".format(sector=sector))\n",
    "        \n",
    "        with open(\"./outputs/{sector} - {strategy_name}.csv\".format(\n",
    "            strategy_name=strategy_name.split(\"(\")[0],\n",
    "            sector=sector,\n",
    "        ), \"w\") as phile:\n",
    "            lines = [\n",
    "                \"timestamp,symbol,quantity,closing,volume\\n\"\n",
    "            ]\n",
    "            for t in sorted(sector_results[\"trades\"], key=lambda t: t[\"stock_day\"][\"timestamp\"]):\n",
    "                lines.append(\"{timestamp},{symbol},{quantity},{closing},{volume}\\n\".format(**t[\"stock_day\"], quantity=t[\"quantity\"]))\n",
    "            phile.writelines(lines)\n",
    "        \n",
    "        # Summarize\n",
    "        counts = {}\n",
    "\n",
    "        for t in sorted(sector_results[\"trades\"], key=lambda t: t[\"stock_day\"][\"timestamp\"]):\n",
    "            symbol = t[\"stock_day\"][\"symbol\"]\n",
    "            try:\n",
    "                counts[symbol] += 1\n",
    "            except:\n",
    "                counts[symbol] = 1\n",
    "        \n",
    "        for ticker, frequency in sorted(counts.items(), key=lambda t: t[1]):\n",
    "            print(\"\\t\\t{}: picked {} times\".format(ticker, frequency))\n"
   ]
  },
  {
   "cell_type": "code",
   "execution_count": null,
   "metadata": {},
   "outputs": [],
   "source": []
  }
 ],
 "metadata": {
  "kernelspec": {
   "display_name": "Python 3",
   "language": "python",
   "name": "python3"
  },
  "language_info": {
   "codemirror_mode": {
    "name": "ipython",
    "version": 3
   },
   "file_extension": ".py",
   "mimetype": "text/x-python",
   "name": "python",
   "nbconvert_exporter": "python",
   "pygments_lexer": "ipython3",
   "version": "3.7.3"
  }
 },
 "nbformat": 4,
 "nbformat_minor": 2
}
