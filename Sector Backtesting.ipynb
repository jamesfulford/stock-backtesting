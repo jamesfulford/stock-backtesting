{
 "cells": [
  {
   "cell_type": "markdown",
   "metadata": {},
   "source": [
    "# Gather Data\n",
    "Uses finnhub.io API to gather historical stock data over period of time for items in provided sectors."
   ]
  },
  {
   "cell_type": "code",
   "execution_count": null,
   "metadata": {},
   "outputs": [],
   "source": [
    "from datetime import datetime\n",
    "\n",
    "# Select Timeframe\n",
    "start = datetime(2019, 1, 1, 0, 0, 0)\n",
    "end = datetime.now()\n",
    "days = (end - start).days\n",
    "\n",
    "from src.get_sector_history import get_sector_histories\n",
    "\n",
    "sector_stock_histories = get_sector_histories(days, sectors=[\"xlre\"])\n",
    "# sector_stock_histories = get_sector_histories(days)\n",
    "\n",
    "from src.sectors import get_sector_stocks\n",
    "\n",
    "for sector, history in sector_stock_histories.items():\n",
    "    print(\"{}: {}/{}\".format(sector, len(history), len(get_sector_stocks(sector))))"
   ]
  },
  {
   "cell_type": "markdown",
   "metadata": {},
   "source": [
    "## Strategy"
   ]
  },
  {
   "cell_type": "code",
   "execution_count": null,
   "metadata": {},
   "outputs": [],
   "source": [
    "# TODO(james.fulford): Collect more days in past for Moving Average reasons\n",
    "# TODO(james.fulford): Collect higher resolution data (not daily, but hourly or something)\n",
    "# TODO(james.fulford): Collect earnings data (?)"
   ]
  },
  {
   "cell_type": "code",
   "execution_count": null,
   "metadata": {},
   "outputs": [],
   "source": [
    "from src.strategy.top_volume import use_top_volume_fixed_purchasing\n",
    "from src.run_strategies import run_strategies\n",
    "\n",
    "strategies = [\n",
    "    use_top_volume_fixed_purchasing(3, 1000)\n",
    "]\n",
    "\n",
    "results = run_strategies(strategies, sector_stock_histories, start, end)\n",
    "\n",
    "print(\"# ROI % EVALUATION ({start} to present)\".format(start=start.strftime(\"%Y-%m-%d\")))\n",
    "from src.reporting.roi import print_roi\n",
    "print_roi(results)\n",
    "\n",
    "print(\"# TODAY'S TRADES\")\n",
    "from src.reporting.trades import print_day_trades\n",
    "print_day_trades(results, end)\n"
   ]
  }
 ],
 "metadata": {
  "kernelspec": {
   "display_name": "Python 3",
   "language": "python",
   "name": "python3"
  },
  "language_info": {
   "codemirror_mode": {
    "name": "ipython",
    "version": 3
   },
   "file_extension": ".py",
   "mimetype": "text/x-python",
   "name": "python",
   "nbconvert_exporter": "python",
   "pygments_lexer": "ipython3",
   "version": "3.7.3"
  }
 },
 "nbformat": 4,
 "nbformat_minor": 2
}
